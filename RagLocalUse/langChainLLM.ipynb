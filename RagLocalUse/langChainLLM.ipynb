{
 "cells": [
  {
   "cell_type": "code",
   "execution_count": 2,
   "id": "ac34de2c",
   "metadata": {},
   "outputs": [
    {
     "name": "stdout",
     "output_type": "stream",
     "text": [
      "0.3.27\n"
     ]
    }
   ],
   "source": [
    "import langchain \n",
    "print(langchain.__version__)"
   ]
  },
  {
   "cell_type": "code",
   "execution_count": 4,
   "id": "672d31a2",
   "metadata": {},
   "outputs": [],
   "source": [
    "import os \n",
    "\n",
    "os.environ[\"OPENAI_API_KEY\"]= os.getenv(\"OPENAI_API_KEY\")"
   ]
  },
  {
   "cell_type": "code",
   "execution_count": 5,
   "id": "9d517003",
   "metadata": {},
   "outputs": [],
   "source": [
    "# Configuration de l'environnement pour activer le tracing V2 de LangChain\n",
    "os.environ[\"LANGCHAIN_TRACING_V2\"] = \"true\"\n",
    "\n",
    "# Configuration de l'environnement avec la clé API de LangChain\n",
    "os.environ[\"LANGCHAIN_API_KEY\"] = \"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\"\n",
    "\n",
    "# Configuration de l'environnement pour définir le projet LangChain comme \"rag_Golf\"\n",
    "os.environ[\"LANCHAIN_PROJECT\"] = \"rag_Golf\"\n"
   ]
  },
  {
   "cell_type": "markdown",
   "id": "607db93b",
   "metadata": {},
   "source": [
    "Appel du LLM"
   ]
  },
  {
   "cell_type": "code",
   "execution_count": 6,
   "id": "9daa3d88",
   "metadata": {},
   "outputs": [
    {
     "data": {
      "text/plain": [
       "AIMessage(content='Pourquoi les plongeurs plongent-ils toujours en arrière et jamais en avant ?\\n\\nParce que sinon ils tombent dans le bateau ! 😄', additional_kwargs={'refusal': None}, response_metadata={'token_usage': {'completion_tokens': 27, 'prompt_tokens': 12, 'total_tokens': 39, 'completion_tokens_details': {'accepted_prediction_tokens': 0, 'audio_tokens': 0, 'reasoning_tokens': 0, 'rejected_prediction_tokens': 0}, 'prompt_tokens_details': {'audio_tokens': 0, 'cached_tokens': 0}}, 'model_name': 'gpt-4o-mini-2024-07-18', 'system_fingerprint': 'fp_51db84afab', 'id': 'chatcmpl-C6v8AyRa2HsKWHv0VokItVzD3HyEj', 'service_tier': 'default', 'finish_reason': 'stop', 'logprobs': None}, id='run--eabc378a-8e0d-4d5b-889a-c01449f80e26-0', usage_metadata={'input_tokens': 12, 'output_tokens': 27, 'total_tokens': 39, 'input_token_details': {'audio': 0, 'cache_read': 0}, 'output_token_details': {'audio': 0, 'reasoning': 0}})"
      ]
     },
     "execution_count": 6,
     "metadata": {},
     "output_type": "execute_result"
    }
   ],
   "source": [
    "from langchain_openai import ChatOpenAI\n",
    "\n",
    "llm = ChatOpenAI(model=\"gpt-4o-mini\")\n",
    "llm_response = llm.invoke(\"fait moi un blague\")\n",
    "\n",
    "llm_response"
   ]
  },
  {
   "cell_type": "markdown",
   "id": "7ac2402d",
   "metadata": {},
   "source": [
    "Parsing Output"
   ]
  },
  {
   "cell_type": "code",
   "execution_count": 7,
   "id": "2778bdb4",
   "metadata": {},
   "outputs": [
    {
     "data": {
      "text/plain": [
       "'Pourquoi les plongeurs plongent-ils toujours en arrière et jamais en avant ?\\n\\nParce que sinon ils tombent dans le bateau ! 😄'"
      ]
     },
     "execution_count": 7,
     "metadata": {},
     "output_type": "execute_result"
    }
   ],
   "source": [
    "from langchain_core.output_parsers import StrOutputParser\n",
    "\n",
    "output_parser = StrOutputParser()\n",
    "output_parser.invoke(llm_response)"
   ]
  },
  {
   "cell_type": "markdown",
   "id": "3567ea21",
   "metadata": {},
   "source": [
    "Simple Chain\n"
   ]
  },
  {
   "cell_type": "code",
   "execution_count": 8,
   "id": "b8442d8c",
   "metadata": {},
   "outputs": [
    {
     "data": {
      "text/plain": [
       "'Bien sûr, voici une blague :\\n\\nPourquoi les plongeurs plongent-ils toujours en arrière et jamais en avant ?\\n\\nParce que sinon ils tombent dans le bateau ! 😄'"
      ]
     },
     "execution_count": 8,
     "metadata": {},
     "output_type": "execute_result"
    }
   ],
   "source": [
    "chain = llm | output_parser\n",
    "chain.invoke(\"fait moi un blague\")"
   ]
  },
  {
   "cell_type": "markdown",
   "id": "6f96a1aa",
   "metadata": {},
   "source": [
    "Pronpt template"
   ]
  },
  {
   "cell_type": "code",
   "execution_count": null,
   "id": "beb9f15d",
   "metadata": {},
   "outputs": [
    {
     "name": "stdout",
     "output_type": "stream",
     "text": [
      "Fais-moi une blague qui parle de programmation\n"
     ]
    }
   ],
   "source": [
    "from langchain_core.prompts import ChatPromptTemplate\n",
    "\n",
    "prompt = ChatPromptTemplate.from_messages([\n",
    "    (\"human\", \"Fais-moi une blague qui parle de {topic}\")\n",
    "])\n",
    "\n",
    "response = prompt.invoke({\"topic\": \"programmation\"})\n",
    "print(response.messages[0].content)"
   ]
  },
  {
   "cell_type": "code",
   "execution_count": 17,
   "id": "b0053983",
   "metadata": {},
   "outputs": [
    {
     "data": {
      "text/plain": [
       "'Pourquoi les développeurs détestent-ils les montres ?\\n\\nParce qu\\'ils n\\'aiment pas les \"bugs\" dans le temps ! 🕒🐛'"
      ]
     },
     "execution_count": 17,
     "metadata": {},
     "output_type": "execute_result"
    }
   ],
   "source": [
    "chain = prompt | llm | output_parser\n",
    "chain.invoke({\"topic\": \"programation\"})"
   ]
  },
  {
   "cell_type": "markdown",
   "id": "05debc16",
   "metadata": {},
   "source": [
    "LLM Messages"
   ]
  },
  {
   "cell_type": "code",
   "execution_count": null,
   "id": "df5af638",
   "metadata": {},
   "outputs": [
    {
     "data": {
      "text/plain": [
       "AIMessage(content=\"Pourquoi les programmeurs détestent-ils la nature ?\\n\\nParce qu'elle a trop de bugs ! 🐛💻\", additional_kwargs={'refusal': None}, response_metadata={'token_usage': {'completion_tokens': 24, 'prompt_tokens': 34, 'total_tokens': 58, 'completion_tokens_details': {'accepted_prediction_tokens': 0, 'audio_tokens': 0, 'reasoning_tokens': 0, 'rejected_prediction_tokens': 0}, 'prompt_tokens_details': {'audio_tokens': 0, 'cached_tokens': 0}}, 'model_name': 'gpt-4o-mini-2024-07-18', 'system_fingerprint': 'fp_560af6e559', 'id': 'chatcmpl-C6vvoa7LsVyFE0OtdD0WroicUCoaY', 'service_tier': 'default', 'finish_reason': 'stop', 'logprobs': None}, id='run--fc3e7016-e91c-4aa9-8ba4-4bf028472db4-0', usage_metadata={'input_tokens': 34, 'output_tokens': 24, 'total_tokens': 58, 'input_token_details': {'audio': 0, 'cache_read': 0}, 'output_token_details': {'audio': 0, 'reasoning': 0}})"
      ]
     },
     "execution_count": 19,
     "metadata": {},
     "output_type": "execute_result"
    }
   ],
   "source": [
    "from langchain_core.output_parsers import StrOutputParser\n",
    "from langchain_core.messages import HumanMessage, SystemMessage\n",
    "\n",
    "systemMessage = SystemMessage(content=\"tu es un assistant serviable qui raconte des blagues.\")\n",
    "human_message = HumanMessage(content=\"Fais moi une blague qui parle de programation\")\n",
    "llm.invoke([systemMessage, human_message])"
   ]
  },
  {
   "cell_type": "code",
   "execution_count": 21,
   "id": "1f1199cd",
   "metadata": {},
   "outputs": [
    {
     "data": {
      "text/plain": [
       "ChatPromptValue(messages=[SystemMessage(content='tu es un assistant serviable qui raconte des blagues.', additional_kwargs={}, response_metadata={}), HumanMessage(content='Fais moi une blague qui parle de programation', additional_kwargs={}, response_metadata={})])"
      ]
     },
     "execution_count": 21,
     "metadata": {},
     "output_type": "execute_result"
    }
   ],
   "source": [
    "template = ChatPromptTemplate([\n",
    "    (\"system\",\"tu es un assistant serviable qui raconte des blagues.\"),\n",
    "    (\"human\",\"Fais moi une blague qui parle de programation\")\n",
    "])\n",
    "\n",
    "\n",
    "pront_value = template.invoke({\n",
    "    \"topic\":\"programation\"\n",
    "})\n",
    "\n",
    "pront_value"
   ]
  },
  {
   "cell_type": "code",
   "execution_count": 25,
   "id": "c06c6437",
   "metadata": {},
   "outputs": [
    {
     "data": {
      "text/plain": [
       "AIMessage(content=\"Pourquoi les programmeurs détestent-ils la nature ?\\n\\nParce qu'il y a trop de bugs ! 🐛💻\", additional_kwargs={'refusal': None}, response_metadata={'token_usage': {'completion_tokens': 25, 'prompt_tokens': 34, 'total_tokens': 59, 'completion_tokens_details': {'accepted_prediction_tokens': 0, 'audio_tokens': 0, 'reasoning_tokens': 0, 'rejected_prediction_tokens': 0}, 'prompt_tokens_details': {'audio_tokens': 0, 'cached_tokens': 0}}, 'model_name': 'gpt-4o-mini-2024-07-18', 'system_fingerprint': 'fp_560af6e559', 'id': 'chatcmpl-C6w7ij56YrDWxhgxweIuf5KYen0kG', 'service_tier': 'default', 'finish_reason': 'stop', 'logprobs': None}, id='run--ecb07d57-d8d9-4dc1-bc3b-6f64f0eee1ad-0', usage_metadata={'input_tokens': 34, 'output_tokens': 25, 'total_tokens': 59, 'input_token_details': {'audio': 0, 'cache_read': 0}, 'output_token_details': {'audio': 0, 'reasoning': 0}})"
      ]
     },
     "execution_count": 25,
     "metadata": {},
     "output_type": "execute_result"
    }
   ],
   "source": [
    "llm.invoke(pront_value)"
   ]
  }
 ],
 "metadata": {
  "kernelspec": {
   "display_name": ".venv",
   "language": "python",
   "name": "python3"
  },
  "language_info": {
   "codemirror_mode": {
    "name": "ipython",
    "version": 3
   },
   "file_extension": ".py",
   "mimetype": "text/x-python",
   "name": "python",
   "nbconvert_exporter": "python",
   "pygments_lexer": "ipython3",
   "version": "3.13.1"
  }
 },
 "nbformat": 4,
 "nbformat_minor": 5
}
